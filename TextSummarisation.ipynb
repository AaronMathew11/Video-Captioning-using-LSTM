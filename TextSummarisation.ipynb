{
 "cells": [
  {
   "attachments": {},
   "cell_type": "markdown",
   "metadata": {},
   "source": [
    "Getting Transcript from Youtube Video"
   ]
  },
  {
   "cell_type": "code",
   "execution_count": 14,
   "metadata": {},
   "outputs": [
    {
     "name": "stderr",
     "output_type": "stream",
     "text": [
      "None of PyTorch, TensorFlow >= 2.0, or Flax have been found. Models won't be available and only tokenizers, configuration and file/data utilities can be used.\n"
     ]
    },
    {
     "data": {
      "image/jpeg": "[encoded data removed]",
      "text/html": [
       "\n",
       "        <iframe\n",
       "            width=\"400\"\n",
       "            height=\"300\"\n",
       "            src=\"https://www.youtube.com/embed/6he_RsHYn9s\"\n",
       "            frameborder=\"0\"\n",
       "            allowfullscreen\n",
       "            \n",
       "        ></iframe>\n",
       "        "
      ],
      "text/plain": [
       "<IPython.lib.display.YouTubeVideo at 0x1ee896fd180>"
      ]
     },
     "execution_count": 14,
     "metadata": {},
     "output_type": "execute_result"
    }
   ],
   "source": [
    "from transformers import pipeline\n",
    "from youtube_transcript_api import YouTubeTranscriptApi\n",
    "\n",
    "youtube_video = \"https://www.youtube.com/watch?v=6he_RsHYn9s\"\n",
    "video_id = youtube_video.split(\"=\")[1]\n",
    "\n",
    "from IPython.display import YouTubeVideo\n",
    "\n",
    "YouTubeVideo(video_id)"
   ]
  },
  {
   "cell_type": "code",
   "execution_count": 173,
   "metadata": {},
   "outputs": [
    {
     "data": {
      "text/plain": [
       "2588"
      ]
     },
     "execution_count": 173,
     "metadata": {},
     "output_type": "execute_result"
    }
   ],
   "source": [
    "transcript = YouTubeTranscriptApi.get_transcript(video_id)\n",
    "YouTubeTranscriptApi.get_transcript(video_id)\n",
    "\n",
    "text = \"\"\n",
    "for i in transcript:\n",
    "    text += ' ' + i['text']\n",
    "\n",
    "TEXT_LENGTH = len(text) \n",
    "TEXT_LENGTH"
   ]
  },
  {
   "attachments": {},
   "cell_type": "markdown",
   "metadata": {},
   "source": [
    "Text Pre-processing"
   ]
  },
  {
   "cell_type": "code",
   "execution_count": 148,
   "metadata": {},
   "outputs": [
    {
     "data": {
      "text/plain": [
       "\" On a sunny morning at Disney's Animal Kingdom theme park, the meerkats\\ncome outside to catch some rays. They like to lay in the sun. Some people call them solar powered,\\nso they sit like this with their little bellies up to the sky. You'll see them kind of sitting\\nin the sun, taking it in, especially early in the morning on those cooler mornings,\\nor if it's been kind of raining. There's so much\\nI love about working with the meerkats. I try not to pick favorites. I love all the meerkats very much,\\nand they all are very special. Hi, buddy. You are so cute. I know. I love you. Can't favor you on camera. That's just embarrassing. These Southern African desert dudes love their creepy crawly snacks. So today I'm feeding the meerkats,\\nsuper worms and mealworms. And they definitely love\\nthose super worms is their favorite snack. I've been working with them\\nfor a really long time. That means that I've been able to learn all their individual quirks\\nand personalities, and so I can sort of\\ntell them apart by what they're doing. Thomas Arlo. Springsteen. Bentley Nirvana. Newt. At this moment in time, I would say that\\nNewton is probably our dominant animal. Which is surprising to me\\nbecause he's one of our youngest animals. Being the dominant male matters\\nin the meerkat market. Your job is kind of determined\\nin some ways by your social ranking within the group. So in a typical group,\\nthere would be a dominant female who selects the dominant male\\nand they breed, and then the other members of the mob\\nare responsible for raising the offspring, finding food, taking sentry duty, which\\nmeans lookout to keep everybody safe. All of that kind of stuff\\nfalls on the other members of the group. Bentley’s in the back. They're scanning the sky\\nand the surrounding area to make sure there are no threats that are imminent,\\nthat everybody needs to be aware of. Bentley is a really fun guy. He is very chill. I would say he's really calm\\nand easygoing for the most part. Oh, so that was an alarm call. Looks like he might have seen something\\nin the sky that I cannot see. They have a specific vocalization\\nfor a sky predator versus land predator. Something happened. We're all seeking shelter. Oh. We're scared of the zebra. Those are our neighbors. You all know the zebra. We're all underground. When the coast is clear, lower ranking Bentley comes out with some attitude. Bentley is definitely not in charge\\nand when it comes to our meerkat social rankings. But sometimes he likes to try it out and see how high he can get\\nand test the waters. But there's something brewing potentially.\""
      ]
     },
     "execution_count": 148,
     "metadata": {},
     "output_type": "execute_result"
    }
   ],
   "source": [
    "# Text before Processing\n",
    "text"
   ]
  },
  {
   "cell_type": "code",
   "execution_count": 159,
   "metadata": {},
   "outputs": [
    {
     "data": {
      "text/plain": [
       "\"on a sunny morning at disney's animal kingdom theme park, the meerkats\\ncome outside to catch some rays. they like to lay in the sun. some people call them solar powered,\\nso they sit like this with their little bellies up to the sky. you'll see them kind of sitting\\nin the sun, taking it in, especially early in the morning on those cooler mornings,\\nor if it's been kind of raining. there's so much\\ni love about working with the meerkats. i try not to pick favorites. i love all the meerkats very much,\\nand they all are very special. hi, buddy. you are so cute. i know. i love you. can't favor you on camera. that's just embarrassing. these southern african desert dudes love their creepy crawly snacks. so today i'm feeding the meerkats,\\nsuper worms and mealworms. and they definitely love\\nthose super worms is their favorite snack. i've been working with them\\nfor a really long time. that means that i've been able to learn all their individual quirks\\nand personalities, and so i can sort of\\ntell them apart by what they're doing. thomas arlo. springsteen. bentley nirvana. newt. at this moment in time, i would say that\\nnewton is probably our dominant animal. which is surprising to me\\nbecause he's one of our youngest animals. being the dominant male matters\\nin the meerkat market. your job is kind of determined\\nin some ways by your social ranking within the group. so in a typical group,\\nthere would be a dominant female who selects the dominant male\\nand they breed, and then the other members of the mob\\nare responsible for raising the offspring, finding food, taking sentry duty, which\\nmeans lookout to keep everybody safe. all of that kind of stuff\\nfalls on the other members of the group. bentley’s in the back. they're scanning the sky\\nand the surrounding area to make sure there are no threats that are imminent,\\nthat everybody needs to be aware of. bentley is a really fun guy. he is very chill. i would say he's really calm\\nand easygoing for the most part. oh, so that was an alarm call. looks like he might have seen something\\nin the sky that i cannot see. they have a specific vocalization\\nfor a sky predator versus land predator. something happened. we're all seeking shelter. oh. we're scared of the zebra. those are our neighbors. you all know the zebra. we're all underground. when the coast is clear, lower ranking bentley comes out with some attitude. bentley is definitely not in charge\\nand when it comes to our meerkat social rankings. but sometimes he likes to try it out and see how high he can get\\nand test the waters. but there's something brewing potentially.\""
      ]
     },
     "execution_count": 159,
     "metadata": {},
     "output_type": "execute_result"
    }
   ],
   "source": [
    "# Lowercasing\n",
    "text_lower = text.lower().strip()\n",
    "text_lower"
   ]
  },
  {
   "cell_type": "code",
   "execution_count": 160,
   "metadata": {},
   "outputs": [
    {
     "data": {
      "text/plain": [
       "\"on a sunny morning at disney's animal kingdom theme park, the meerkats come outside to catch some rays. they like to lay in the sun. some people call them solar powered, so they sit like this with their little bellies up to the sky. you'll see them kind of sitting in the sun, taking it in, especially early in the morning on those cooler mornings, or if it's been kind of raining. there's so much i love about working with the meerkats. i try not to pick favorites. i love all the meerkats very much, and they all are very special. hi, buddy. you are so cute. i know. i love you. can't favor you on camera. that's just embarrassing. these southern african desert dudes love their creepy crawly snacks. so today i'm feeding the meerkats, super worms and mealworms. and they definitely love those super worms is their favorite snack. i've been working with them for a really long time. that means that i've been able to learn all their individual quirks and personalities, and so i can sort of tell them apart by what they're doing. thomas arlo. springsteen. bentley nirvana. newt. at this moment in time, i would say that newton is probably our dominant animal. which is surprising to me because he's one of our youngest animals. being the dominant male matters in the meerkat market. your job is kind of determined in some ways by your social ranking within the group. so in a typical group, there would be a dominant female who selects the dominant male and they breed, and then the other members of the mob are responsible for raising the offspring, finding food, taking sentry duty, which means lookout to keep everybody safe. all of that kind of stuff falls on the other members of the group. bentley’s in the back. they're scanning the sky and the surrounding area to make sure there are no threats that are imminent, that everybody needs to be aware of. bentley is a really fun guy. he is very chill. i would say he's really calm and easygoing for the most part. oh, so that was an alarm call. looks like he might have seen something in the sky that i cannot see. they have a specific vocalization for a sky predator versus land predator. something happened. we're all seeking shelter. oh. we're scared of the zebra. those are our neighbors. you all know the zebra. we're all underground. when the coast is clear, lower ranking bentley comes out with some attitude. bentley is definitely not in charge and when it comes to our meerkat social rankings. but sometimes he likes to try it out and see how high he can get and test the waters. but there's something brewing potentially.\""
      ]
     },
     "execution_count": 160,
     "metadata": {},
     "output_type": "execute_result"
    }
   ],
   "source": [
    "# Removal of Emojis, Newline if Present\n",
    "import re\n",
    "    # UNICODES for Emojis\n",
    "    # \"\\U0001F600-\\U0001F64F\"  # emoticons\n",
    "    # \"\\U0001F300-\\U0001F5FF\"  # symbols & pictographs\n",
    "    # \"\\U0001F680-\\U0001F6FF\"  # transport & map symbols\n",
    "    # \"\\U0001F1E0-\\U0001F1FF\"  # flags (iOS)\n",
    "text_nonewl = re.sub(r'\\n', ' ', text_lower)\n",
    "text_noemojis = re.sub(r'[\\U0001F600-\\U0001F64F\\U0001F300-\\U0001F5FF\\U0001F680-\\U0001F6FF\\U0001F1E0-\\U0001F1FF]', '', text_nonewl)\n",
    "text_dotspace = re.sub(r\"[\\.].\",\". \",text_noemojis)\n",
    "text_dotspace"
   ]
  },
  {
   "cell_type": "code",
   "execution_count": 161,
   "metadata": {},
   "outputs": [
    {
     "data": {
      "text/plain": [
       "'on a sunny morning at disneys animal kingdom theme park the meerkats come outside to catch some rays they like to lay in the sun some people call them solar powered so they sit like this with their little bellies up to the sky youll see them kind of sitting in the sun taking it in especially early in the morning on those cooler mornings or if its been kind of raining theres so much i love about working with the meerkats i try not to pick favorites i love all the meerkats very much and they all are very special hi buddy you are so cute i know i love you cant favor you on camera thats just embarrassing these southern african desert dudes love their creepy crawly snacks so today im feeding the meerkats super worms and mealworms and they definitely love those super worms is their favorite snack ive been working with them for a really long time that means that ive been able to learn all their individual quirks and personalities and so i can sort of tell them apart by what theyre doing thomas arlo springsteen bentley nirvana newt at this moment in time i would say that newton is probably our dominant animal which is surprising to me because hes one of our youngest animals being the dominant male matters in the meerkat market your job is kind of determined in some ways by your social ranking within the group so in a typical group there would be a dominant female who selects the dominant male and they breed and then the other members of the mob are responsible for raising the offspring finding food taking sentry duty which means lookout to keep everybody safe all of that kind of stuff falls on the other members of the group bentleys in the back theyre scanning the sky and the surrounding area to make sure there are no threats that are imminent that everybody needs to be aware of bentley is a really fun guy he is very chill i would say hes really calm and easygoing for the most part oh so that was an alarm call looks like he might have seen something in the sky that i cannot see they have a specific vocalization for a sky predator versus land predator something happened were all seeking shelter oh were scared of the zebra those are our neighbors you all know the zebra were all underground when the coast is clear lower ranking bentley comes out with some attitude bentley is definitely not in charge and when it comes to our meerkat social rankings but sometimes he likes to try it out and see how high he can get and test the waters but theres something brewing potentially'"
      ]
     },
     "execution_count": 161,
     "metadata": {},
     "output_type": "execute_result"
    }
   ],
   "source": [
    "# Removal of Punctuations\n",
    "import re\n",
    "text_nopunct = re.sub(r'[^\\w\\s]','',text_dotspace)\n",
    "text_nopunct"
   ]
  },
  {
   "cell_type": "code",
   "execution_count": 162,
   "metadata": {},
   "outputs": [
    {
     "name": "stdout",
     "output_type": "stream",
     "text": [
      "['on', 'a', 'sunny', 'morning', 'at', 'disneys', 'animal', 'kingdom', 'theme', 'park', 'the', 'meerkats', 'come', 'outside', 'to', 'catch', 'some', 'rays', 'they', 'like', 'to', 'lay', 'in', 'the', 'sun', 'some', 'people', 'call', 'them', 'solar', 'powered', 'so', 'they', 'sit', 'like', 'this', 'with', 'their', 'little', 'bellies', 'up', 'to', 'the', 'sky', 'youll', 'see', 'them', 'kind', 'of', 'sitting', 'in', 'the', 'sun', 'taking', 'it', 'in', 'especially', 'early', 'in', 'the', 'morning', 'on', 'those', 'cooler', 'mornings', 'or', 'if', 'its', 'been', 'kind', 'of', 'raining', 'theres', 'so', 'much', 'i', 'love', 'about', 'working', 'with', 'the', 'meerkats', 'i', 'try', 'not', 'to', 'pick', 'favorites', 'i', 'love', 'all', 'the', 'meerkats', 'very', 'much', 'and', 'they', 'all', 'are', 'very', 'special', 'hi', 'buddy', 'you', 'are', 'so', 'cute', 'i', 'know', 'i', 'love', 'you', 'cant', 'favor', 'you', 'on', 'camera', 'thats', 'just', 'embarrassing', 'these', 'southern', 'african', 'desert', 'dudes', 'love', 'their', 'creepy', 'crawly', 'snacks', 'so', 'today', 'im', 'feeding', 'the', 'meerkats', 'super', 'worms', 'and', 'mealworms', 'and', 'they', 'definitely', 'love', 'those', 'super', 'worms', 'is', 'their', 'favorite', 'snack', 'ive', 'been', 'working', 'with', 'them', 'for', 'a', 'really', 'long', 'time', 'that', 'means', 'that', 'ive', 'been', 'able', 'to', 'learn', 'all', 'their', 'individual', 'quirks', 'and', 'personalities', 'and', 'so', 'i', 'can', 'sort', 'of', 'tell', 'them', 'apart', 'by', 'what', 'theyre', 'doing', 'thomas', 'arlo', 'springsteen', 'bentley', 'nirvana', 'newt', 'at', 'this', 'moment', 'in', 'time', 'i', 'would', 'say', 'that', 'newton', 'is', 'probably', 'our', 'dominant', 'animal', 'which', 'is', 'surprising', 'to', 'me', 'because', 'hes', 'one', 'of', 'our', 'youngest', 'animals', 'being', 'the', 'dominant', 'male', 'matters', 'in', 'the', 'meerkat', 'market', 'your', 'job', 'is', 'kind', 'of', 'determined', 'in', 'some', 'ways', 'by', 'your', 'social', 'ranking', 'within', 'the', 'group', 'so', 'in', 'a', 'typical', 'group', 'there', 'would', 'be', 'a', 'dominant', 'female', 'who', 'selects', 'the', 'dominant', 'male', 'and', 'they', 'breed', 'and', 'then', 'the', 'other', 'members', 'of', 'the', 'mob', 'are', 'responsible', 'for', 'raising', 'the', 'offspring', 'finding', 'food', 'taking', 'sentry', 'duty', 'which', 'means', 'lookout', 'to', 'keep', 'everybody', 'safe', 'all', 'of', 'that', 'kind', 'of', 'stuff', 'falls', 'on', 'the', 'other', 'members', 'of', 'the', 'group', 'bentleys', 'in', 'the', 'back', 'theyre', 'scanning', 'the', 'sky', 'and', 'the', 'surrounding', 'area', 'to', 'make', 'sure', 'there', 'are', 'no', 'threats', 'that', 'are', 'imminent', 'that', 'everybody', 'needs', 'to', 'be', 'aware', 'of', 'bentley', 'is', 'a', 'really', 'fun', 'guy', 'he', 'is', 'very', 'chill', 'i', 'would', 'say', 'hes', 'really', 'calm', 'and', 'easygoing', 'for', 'the', 'most', 'part', 'oh', 'so', 'that', 'was', 'an', 'alarm', 'call', 'looks', 'like', 'he', 'might', 'have', 'seen', 'something', 'in', 'the', 'sky', 'that', 'i', 'can', 'not', 'see', 'they', 'have', 'a', 'specific', 'vocalization', 'for', 'a', 'sky', 'predator', 'versus', 'land', 'predator', 'something', 'happened', 'were', 'all', 'seeking', 'shelter', 'oh', 'were', 'scared', 'of', 'the', 'zebra', 'those', 'are', 'our', 'neighbors', 'you', 'all', 'know', 'the', 'zebra', 'were', 'all', 'underground', 'when', 'the', 'coast', 'is', 'clear', 'lower', 'ranking', 'bentley', 'comes', 'out', 'with', 'some', 'attitude', 'bentley', 'is', 'definitely', 'not', 'in', 'charge', 'and', 'when', 'it', 'comes', 'to', 'our', 'meerkat', 'social', 'rankings', 'but', 'sometimes', 'he', 'likes', 'to', 'try', 'it', 'out', 'and', 'see', 'how', 'high', 'he', 'can', 'get', 'and', 'test', 'the', 'waters', 'but', 'theres', 'something', 'brewing', 'potentially']\n"
     ]
    }
   ],
   "source": [
    "# Tokenizing\n",
    "from nltk.tokenize import word_tokenize\n",
    "\n",
    "tokenized_text = word_tokenize(text_nopunct)\n",
    "print(tokenized_text)"
   ]
  },
  {
   "cell_type": "code",
   "execution_count": 163,
   "metadata": {},
   "outputs": [
    {
     "name": "stdout",
     "output_type": "stream",
     "text": [
      "['sunny', 'morning', 'disneys', 'animal', 'kingdom', 'theme', 'park', 'meerkats', 'come', 'outside', 'catch', 'rays', 'like', 'lay', 'sun', 'people', 'call', 'solar', 'powered', 'sit', 'like', 'little', 'bellies', 'sky', 'youll', 'see', 'kind', 'sitting', 'sun', 'taking', 'especially', 'early', 'morning', 'cooler', 'mornings', 'kind', 'raining', 'theres', 'much', 'love', 'working', 'meerkats', 'try', 'pick', 'favorites', 'love', 'meerkats', 'much', 'special', 'hi', 'buddy', 'cute', 'know', 'love', 'cant', 'favor', 'camera', 'thats', 'embarrassing', 'southern', 'african', 'desert', 'dudes', 'love', 'creepy', 'crawly', 'snacks', 'today', 'im', 'feeding', 'meerkats', 'super', 'worms', 'mealworms', 'definitely', 'love', 'super', 'worms', 'favorite', 'snack', 'ive', 'working', 'really', 'long', 'time', 'means', 'ive', 'able', 'learn', 'individual', 'quirks', 'personalities', 'sort', 'tell', 'apart', 'theyre', 'thomas', 'arlo', 'springsteen', 'bentley', 'nirvana', 'newt', 'moment', 'time', 'would', 'say', 'newton', 'probably', 'dominant', 'animal', 'surprising', 'hes', 'one', 'youngest', 'animals', 'dominant', 'male', 'matters', 'meerkat', 'market', 'job', 'kind', 'determined', 'ways', 'social', 'ranking', 'within', 'group', 'typical', 'group', 'would', 'dominant', 'female', 'selects', 'dominant', 'male', 'breed', 'members', 'mob', 'responsible', 'raising', 'offspring', 'finding', 'food', 'taking', 'sentry', 'duty', 'means', 'lookout', 'keep', 'everybody', 'safe', 'kind', 'stuff', 'falls', 'members', 'group', 'bentleys', 'back', 'theyre', 'scanning', 'sky', 'surrounding', 'area', 'make', 'sure', 'threats', 'imminent', 'everybody', 'needs', 'aware', 'bentley', 'really', 'fun', 'guy', 'chill', 'would', 'say', 'hes', 'really', 'calm', 'easygoing', 'part', 'oh', 'alarm', 'call', 'looks', 'like', 'might', 'seen', 'something', 'sky', 'see', 'specific', 'vocalization', 'sky', 'predator', 'versus', 'land', 'predator', 'something', 'happened', 'seeking', 'shelter', 'oh', 'scared', 'zebra', 'neighbors', 'know', 'zebra', 'underground', 'coast', 'clear', 'lower', 'ranking', 'bentley', 'comes', 'attitude', 'bentley', 'definitely', 'charge', 'comes', 'meerkat', 'social', 'rankings', 'sometimes', 'likes', 'try', 'see', 'high', 'get', 'test', 'waters', 'theres', 'something', 'brewing', 'potentially']\n"
     ]
    }
   ],
   "source": [
    "# Removal of stop-words in ENGLISH (very frequent and very rare words occured) \n",
    "from nltk.corpus import stopwords\n",
    "tokens = []\n",
    "for i in tokenized_text:\n",
    "    if not i in list(stopwords.words('english')):\n",
    "        tokens.append(i)\n",
    "\n",
    "print(tokens)"
   ]
  },
  {
   "cell_type": "code",
   "execution_count": 164,
   "metadata": {},
   "outputs": [
    {
     "name": "stdout",
     "output_type": "stream",
     "text": [
      "['sunni', 'morn', 'disney', 'anim', 'kingdom', 'theme', 'park', 'meerkat', 'come', 'outsid', 'catch', 'ray', 'like', 'lay', 'sun', 'peopl', 'call', 'solar', 'power', 'sit', 'like', 'littl', 'belli', 'sky', 'youll', 'see', 'kind', 'sit', 'sun', 'take', 'especi', 'earli', 'morn', 'cooler', 'morn', 'kind', 'rain', 'there', 'much', 'love', 'work', 'meerkat', 'tri', 'pick', 'favorit', 'love', 'meerkat', 'much', 'special', 'hi', 'buddi', 'cute', 'know', 'love', 'cant', 'favor', 'camera', 'that', 'embarrass', 'southern', 'african', 'desert', 'dude', 'love', 'creepi', 'crawli', 'snack', 'today', 'im', 'feed', 'meerkat', 'super', 'worm', 'mealworm', 'definit', 'love', 'super', 'worm', 'favorit', 'snack', 'ive', 'work', 'realli', 'long', 'time', 'mean', 'ive', 'abl', 'learn', 'individu', 'quirk', 'person', 'sort', 'tell', 'apart', 'theyr', 'thoma', 'arlo', 'springsteen', 'bentley', 'nirvana', 'newt', 'moment', 'time', 'would', 'say', 'newton', 'probabl', 'domin', 'anim', 'surpris', 'he', 'one', 'youngest', 'anim', 'domin', 'male', 'matter', 'meerkat', 'market', 'job', 'kind', 'determin', 'way', 'social', 'rank', 'within', 'group', 'typic', 'group', 'would', 'domin', 'femal', 'select', 'domin', 'male', 'breed', 'member', 'mob', 'respons', 'rais', 'offspr', 'find', 'food', 'take', 'sentri', 'duti', 'mean', 'lookout', 'keep', 'everybodi', 'safe', 'kind', 'stuff', 'fall', 'member', 'group', 'bentley', 'back', 'theyr', 'scan', 'sky', 'surround', 'area', 'make', 'sure', 'threat', 'immin', 'everybodi', 'need', 'awar', 'bentley', 'realli', 'fun', 'guy', 'chill', 'would', 'say', 'he', 'realli', 'calm', 'easygo', 'part', 'oh', 'alarm', 'call', 'look', 'like', 'might', 'seen', 'someth', 'sky', 'see', 'specif', 'vocal', 'sky', 'predat', 'versu', 'land', 'predat', 'someth', 'happen', 'seek', 'shelter', 'oh', 'scare', 'zebra', 'neighbor', 'know', 'zebra', 'underground', 'coast', 'clear', 'lower', 'rank', 'bentley', 'come', 'attitud', 'bentley', 'definit', 'charg', 'come', 'meerkat', 'social', 'rank', 'sometim', 'like', 'tri', 'see', 'high', 'get', 'test', 'water', 'there', 'someth', 'brew', 'potenti']\n"
     ]
    }
   ],
   "source": [
    "# Stemming\n",
    "from nltk.stem import PorterStemmer\n",
    "stemmer = PorterStemmer()\n",
    "\n",
    "tokens_stemmed = []\n",
    "for token in tokens:\n",
    "    tokens_stemmed.append(stemmer.stem(token))\n",
    "\n",
    "print(tokens_stemmed)"
   ]
  },
  {
   "cell_type": "code",
   "execution_count": 165,
   "metadata": {},
   "outputs": [
    {
     "name": "stdout",
     "output_type": "stream",
     "text": [
      "['sunny', 'morning', 'disney', 'animal', 'kingdom', 'theme', 'park', 'meerkat', 'come', 'outside', 'catch', 'ray', 'like', 'lay', 'sun', 'people', 'call', 'solar', 'powered', 'sit', 'like', 'little', 'belly', 'sky', 'youll', 'see', 'kind', 'sitting', 'sun', 'taking', 'especially', 'early', 'morning', 'cooler', 'morning', 'kind', 'raining', 'there', 'much', 'love', 'working', 'meerkat', 'try', 'pick', 'favorite', 'love', 'meerkat', 'much', 'special', 'hi', 'buddy', 'cute', 'know', 'love', 'cant', 'favor', 'camera', 'thats', 'embarrassing', 'southern', 'african', 'desert', 'dude', 'love', 'creepy', 'crawly', 'snack', 'today', 'im', 'feeding', 'meerkat', 'super', 'worm', 'mealworm', 'definitely', 'love', 'super', 'worm', 'favorite', 'snack', 'ive', 'working', 'really', 'long', 'time', 'mean', 'ive', 'able', 'learn', 'individual', 'quirk', 'personality', 'sort', 'tell', 'apart', 'theyre', 'thomas', 'arlo', 'springsteen', 'bentley', 'nirvana', 'newt', 'moment', 'time', 'would', 'say', 'newton', 'probably', 'dominant', 'animal', 'surprising', 'he', 'one', 'youngest', 'animal', 'dominant', 'male', 'matter', 'meerkat', 'market', 'job', 'kind', 'determined', 'way', 'social', 'ranking', 'within', 'group', 'typical', 'group', 'would', 'dominant', 'female', 'selects', 'dominant', 'male', 'breed', 'member', 'mob', 'responsible', 'raising', 'offspring', 'finding', 'food', 'taking', 'sentry', 'duty', 'mean', 'lookout', 'keep', 'everybody', 'safe', 'kind', 'stuff', 'fall', 'member', 'group', 'bentleys', 'back', 'theyre', 'scanning', 'sky', 'surrounding', 'area', 'make', 'sure', 'threat', 'imminent', 'everybody', 'need', 'aware', 'bentley', 'really', 'fun', 'guy', 'chill', 'would', 'say', 'he', 'really', 'calm', 'easygoing', 'part', 'oh', 'alarm', 'call', 'look', 'like', 'might', 'seen', 'something', 'sky', 'see', 'specific', 'vocalization', 'sky', 'predator', 'versus', 'land', 'predator', 'something', 'happened', 'seeking', 'shelter', 'oh', 'scared', 'zebra', 'neighbor', 'know', 'zebra', 'underground', 'coast', 'clear', 'lower', 'ranking', 'bentley', 'come', 'attitude', 'bentley', 'definitely', 'charge', 'come', 'meerkat', 'social', 'ranking', 'sometimes', 'like', 'try', 'see', 'high', 'get', 'test', 'water', 'there', 'something', 'brewing', 'potentially']\n"
     ]
    }
   ],
   "source": [
    "# Lemmatization\n",
    "from nltk.stem import WordNetLemmatizer\n",
    "lemmatizer = WordNetLemmatizer()\n",
    "\n",
    "tokens_lemmatized = []\n",
    "for token in tokens:\n",
    "\ttokens_lemmatized.append(lemmatizer.lemmatize(token))\n",
    "\n",
    "print(tokens_lemmatized)"
   ]
  },
  {
   "cell_type": "code",
   "execution_count": 166,
   "metadata": {},
   "outputs": [
    {
     "name": "stdout",
     "output_type": "stream",
     "text": [
      "['sunny', 'morning', 'animal', 'kingdom', 'theme', 'park', 'meerkat', 'come', 'outside', 'catch', 'ray', 'like', 'lay', 'sun', 'people', 'call', 'solar', 'powered', 'sit', 'like', 'little', 'belly', 'sky', 'see', 'kind', 'sitting', 'sun', 'taking', 'especially', 'early', 'morning', 'cooler', 'morning', 'kind', 'raining', 'there', 'much', 'love', 'working', 'meerkat', 'try', 'pick', 'favorite', 'love', 'meerkat', 'much', 'special', 'hi', 'buddy', 'cute', 'know', 'love', 'cant', 'favor', 'camera', 'embarrassing', 'southern', 'desert', 'dude', 'love', 'creepy', 'crawly', 'snack', 'today', 'feeding', 'meerkat', 'super', 'worm', 'mealworm', 'definitely', 'love', 'super', 'worm', 'favorite', 'snack', 'working', 'really', 'long', 'time', 'mean', 'able', 'learn', 'individual', 'quirk', 'personality', 'sort', 'tell', 'apart', 'thomas', 'springsteen', 'nirvana', 'newt', 'moment', 'time', 'would', 'say', 'newton', 'probably', 'dominant', 'animal', 'surprising', 'he', 'one', 'youngest', 'animal', 'dominant', 'male', 'matter', 'meerkat', 'market', 'job', 'kind', 'determined', 'way', 'social', 'ranking', 'within', 'group', 'typical', 'group', 'would', 'dominant', 'female', 'selects', 'dominant', 'male', 'breed', 'member', 'mob', 'responsible', 'raising', 'offspring', 'finding', 'food', 'taking', 'sentry', 'duty', 'mean', 'lookout', 'keep', 'everybody', 'safe', 'kind', 'stuff', 'fall', 'member', 'group', 'back', 'scanning', 'sky', 'surrounding', 'area', 'make', 'sure', 'threat', 'imminent', 'everybody', 'need', 'aware', 'really', 'fun', 'guy', 'chill', 'would', 'say', 'he', 'really', 'calm', 'easygoing', 'part', 'oh', 'alarm', 'call', 'look', 'like', 'might', 'seen', 'something', 'sky', 'see', 'specific', 'vocalization', 'sky', 'predator', 'versus', 'land', 'predator', 'something', 'happened', 'seeking', 'shelter', 'oh', 'scared', 'zebra', 'neighbor', 'know', 'zebra', 'underground', 'coast', 'clear', 'lower', 'ranking', 'come', 'attitude', 'definitely', 'charge', 'come', 'meerkat', 'social', 'ranking', 'sometimes', 'like', 'try', 'see', 'high', 'get', 'test', 'water', 'there', 'something', 'brewing', 'potentially']\n"
     ]
    }
   ],
   "source": [
    "# Removed words with no meaning\n",
    "import enchant\n",
    "dictionary = enchant.Dict(\"en_US\") # Imported an English dictionary\n",
    "    \n",
    "tokens_final = tokens_lemmatized\n",
    "for token in tokens_final:\n",
    "    if not dictionary.check(token):\n",
    "        tokens_final.remove(token)\n",
    "\n",
    "print(tokens_final)"
   ]
  },
  {
   "attachments": {},
   "cell_type": "markdown",
   "metadata": {},
   "source": [
    "Summarisation Process"
   ]
  },
  {
   "cell_type": "code",
   "execution_count": 167,
   "metadata": {},
   "outputs": [
    {
     "name": "stdout",
     "output_type": "stream",
     "text": [
      "{'sunny': 1, 'morning': 3, 'animal': 3, 'kingdom': 1, 'theme': 1, 'park': 1, 'meerkat': 6, 'come': 3, 'outside': 1, 'catch': 1, 'ray': 1, 'like': 4, 'lay': 1, 'sun': 2, 'people': 1, 'call': 2, 'solar': 1, 'powered': 1, 'sit': 1, 'little': 1, 'belly': 1, 'sky': 4, 'see': 3, 'kind': 4, 'sitting': 1, 'taking': 2, 'especially': 1, 'early': 1, 'cooler': 1, 'raining': 1, 'there': 2, 'much': 2, 'love': 5, 'working': 2, 'try': 2, 'pick': 1, 'favorite': 2, 'special': 1, 'hi': 1, 'buddy': 1, 'cute': 1, 'know': 2, 'cant': 1, 'favor': 1, 'camera': 1, 'embarrassing': 1, 'southern': 1, 'desert': 1, 'dude': 1, 'creepy': 1, 'crawly': 1, 'snack': 2, 'today': 1, 'feeding': 1, 'super': 2, 'worm': 2, 'mealworm': 1, 'definitely': 2, 'really': 3, 'long': 1, 'time': 2, 'mean': 2, 'able': 1, 'learn': 1, 'individual': 1, 'quirk': 1, 'personality': 1, 'sort': 1, 'tell': 1, 'apart': 1, 'thomas': 1, 'springsteen': 1, 'nirvana': 1, 'newt': 1, 'moment': 1, 'would': 3, 'say': 2, 'newton': 1, 'probably': 1, 'dominant': 4, 'surprising': 1, 'he': 2, 'one': 1, 'youngest': 1, 'male': 2, 'matter': 1, 'market': 1, 'job': 1, 'determined': 1, 'way': 1, 'social': 2, 'ranking': 3, 'within': 1, 'group': 3, 'typical': 1, 'female': 1, 'selects': 1, 'breed': 1, 'member': 2, 'mob': 1, 'responsible': 1, 'raising': 1, 'offspring': 1, 'finding': 1, 'food': 1, 'sentry': 1, 'duty': 1, 'lookout': 1, 'keep': 1, 'everybody': 2, 'safe': 1, 'stuff': 1, 'fall': 1, 'back': 1, 'scanning': 1, 'surrounding': 1, 'area': 1, 'make': 1, 'sure': 1, 'threat': 1, 'imminent': 1, 'need': 1, 'aware': 1, 'fun': 1, 'guy': 1, 'chill': 1, 'calm': 1, 'easygoing': 1, 'part': 1, 'oh': 2, 'alarm': 1, 'look': 1, 'might': 1, 'seen': 1, 'something': 3, 'specific': 1, 'vocalization': 1, 'predator': 2, 'versus': 1, 'land': 1, 'happened': 1, 'seeking': 1, 'shelter': 1, 'scared': 1, 'zebra': 2, 'neighbor': 1, 'underground': 1, 'coast': 1, 'clear': 1, 'lower': 1, 'attitude': 1, 'charge': 1, 'sometimes': 1, 'high': 1, 'get': 1, 'test': 1, 'water': 1, 'brewing': 1, 'potentially': 1}\n"
     ]
    }
   ],
   "source": [
    "# Calculate Word-Token Frequencies\n",
    "word_frequencies = {}\n",
    "for word in tokens_final: \n",
    "    if word not in word_frequencies.keys(): \n",
    "        word_frequencies[word] = 1 \n",
    "    else: \n",
    "        word_frequencies[word] += 1 \n",
    "print(word_frequencies)"
   ]
  },
  {
   "cell_type": "code",
   "execution_count": 168,
   "metadata": {},
   "outputs": [
    {
     "name": "stdout",
     "output_type": "stream",
     "text": [
      "{'sunny': 0.16666666666666666, 'morning': 0.5, 'animal': 0.5, 'kingdom': 0.16666666666666666, 'theme': 0.16666666666666666, 'park': 0.16666666666666666, 'meerkat': 1.0, 'come': 0.5, 'outside': 0.16666666666666666, 'catch': 0.16666666666666666, 'ray': 0.16666666666666666, 'like': 0.6666666666666666, 'lay': 0.16666666666666666, 'sun': 0.3333333333333333, 'people': 0.16666666666666666, 'call': 0.3333333333333333, 'solar': 0.16666666666666666, 'powered': 0.16666666666666666, 'sit': 0.16666666666666666, 'little': 0.16666666666666666, 'belly': 0.16666666666666666, 'sky': 0.6666666666666666, 'see': 0.5, 'kind': 0.6666666666666666, 'sitting': 0.16666666666666666, 'taking': 0.3333333333333333, 'especially': 0.16666666666666666, 'early': 0.16666666666666666, 'cooler': 0.16666666666666666, 'raining': 0.16666666666666666, 'there': 0.3333333333333333, 'much': 0.3333333333333333, 'love': 0.8333333333333334, 'working': 0.3333333333333333, 'try': 0.3333333333333333, 'pick': 0.16666666666666666, 'favorite': 0.3333333333333333, 'special': 0.16666666666666666, 'hi': 0.16666666666666666, 'buddy': 0.16666666666666666, 'cute': 0.16666666666666666, 'know': 0.3333333333333333, 'cant': 0.16666666666666666, 'favor': 0.16666666666666666, 'camera': 0.16666666666666666, 'embarrassing': 0.16666666666666666, 'southern': 0.16666666666666666, 'desert': 0.16666666666666666, 'dude': 0.16666666666666666, 'creepy': 0.16666666666666666, 'crawly': 0.16666666666666666, 'snack': 0.3333333333333333, 'today': 0.16666666666666666, 'feeding': 0.16666666666666666, 'super': 0.3333333333333333, 'worm': 0.3333333333333333, 'mealworm': 0.16666666666666666, 'definitely': 0.3333333333333333, 'really': 0.5, 'long': 0.16666666666666666, 'time': 0.3333333333333333, 'mean': 0.3333333333333333, 'able': 0.16666666666666666, 'learn': 0.16666666666666666, 'individual': 0.16666666666666666, 'quirk': 0.16666666666666666, 'personality': 0.16666666666666666, 'sort': 0.16666666666666666, 'tell': 0.16666666666666666, 'apart': 0.16666666666666666, 'thomas': 0.16666666666666666, 'springsteen': 0.16666666666666666, 'nirvana': 0.16666666666666666, 'newt': 0.16666666666666666, 'moment': 0.16666666666666666, 'would': 0.5, 'say': 0.3333333333333333, 'newton': 0.16666666666666666, 'probably': 0.16666666666666666, 'dominant': 0.6666666666666666, 'surprising': 0.16666666666666666, 'he': 0.3333333333333333, 'one': 0.16666666666666666, 'youngest': 0.16666666666666666, 'male': 0.3333333333333333, 'matter': 0.16666666666666666, 'market': 0.16666666666666666, 'job': 0.16666666666666666, 'determined': 0.16666666666666666, 'way': 0.16666666666666666, 'social': 0.3333333333333333, 'ranking': 0.5, 'within': 0.16666666666666666, 'group': 0.5, 'typical': 0.16666666666666666, 'female': 0.16666666666666666, 'selects': 0.16666666666666666, 'breed': 0.16666666666666666, 'member': 0.3333333333333333, 'mob': 0.16666666666666666, 'responsible': 0.16666666666666666, 'raising': 0.16666666666666666, 'offspring': 0.16666666666666666, 'finding': 0.16666666666666666, 'food': 0.16666666666666666, 'sentry': 0.16666666666666666, 'duty': 0.16666666666666666, 'lookout': 0.16666666666666666, 'keep': 0.16666666666666666, 'everybody': 0.3333333333333333, 'safe': 0.16666666666666666, 'stuff': 0.16666666666666666, 'fall': 0.16666666666666666, 'back': 0.16666666666666666, 'scanning': 0.16666666666666666, 'surrounding': 0.16666666666666666, 'area': 0.16666666666666666, 'make': 0.16666666666666666, 'sure': 0.16666666666666666, 'threat': 0.16666666666666666, 'imminent': 0.16666666666666666, 'need': 0.16666666666666666, 'aware': 0.16666666666666666, 'fun': 0.16666666666666666, 'guy': 0.16666666666666666, 'chill': 0.16666666666666666, 'calm': 0.16666666666666666, 'easygoing': 0.16666666666666666, 'part': 0.16666666666666666, 'oh': 0.3333333333333333, 'alarm': 0.16666666666666666, 'look': 0.16666666666666666, 'might': 0.16666666666666666, 'seen': 0.16666666666666666, 'something': 0.5, 'specific': 0.16666666666666666, 'vocalization': 0.16666666666666666, 'predator': 0.3333333333333333, 'versus': 0.16666666666666666, 'land': 0.16666666666666666, 'happened': 0.16666666666666666, 'seeking': 0.16666666666666666, 'shelter': 0.16666666666666666, 'scared': 0.16666666666666666, 'zebra': 0.3333333333333333, 'neighbor': 0.16666666666666666, 'underground': 0.16666666666666666, 'coast': 0.16666666666666666, 'clear': 0.16666666666666666, 'lower': 0.16666666666666666, 'attitude': 0.16666666666666666, 'charge': 0.16666666666666666, 'sometimes': 0.16666666666666666, 'high': 0.16666666666666666, 'get': 0.16666666666666666, 'test': 0.16666666666666666, 'water': 0.16666666666666666, 'brewing': 0.16666666666666666, 'potentially': 0.16666666666666666}\n"
     ]
    }
   ],
   "source": [
    "# Normalize Word-Token Frequencies\n",
    "max_freq_word = max(word_frequencies.values())\n",
    "for word in word_frequencies.keys(): \n",
    "    word_frequencies[word] = word_frequencies[word] / max_freq_word\n",
    "print(word_frequencies)"
   ]
  },
  {
   "cell_type": "code",
   "execution_count": 169,
   "metadata": {},
   "outputs": [
    {
     "name": "stdout",
     "output_type": "stream",
     "text": [
      "{\"on a sunny morning at disney's animal kingdom theme park, the meerkats come outside to catch some rays.\": 3.6666666666666665, 'they like to lay in the sun.': 1.1666666666666665, 'some people call them solar powered, so they sit like this with their little bellies up to the sky.': 2.6666666666666665, \"you'll see them kind of sitting in the sun, taking it in, especially early in the morning on those cooler mornings, or if it's been kind of raining.\": 4.333333333333333, \"there's so much i love about working with the meerkats.\": 2.833333333333333, 'i try not to pick favorites.': 0.8333333333333333, 'i love all the meerkats very much, and they all are very special.': 2.3333333333333335, 'hi, buddy.': 0.3333333333333333, 'you are so cute.': 0.16666666666666666, 'i know.': 0.3333333333333333, 'i love you.': 0.8333333333333334, \"can't favor you on camera.\": 0.3333333333333333, \"that's just embarrassing.\": 0.16666666666666666, 'these southern african desert dudes love their creepy crawly snacks.': 2.0000000000000004, \"so today i'm feeding the meerkats, super worms and mealworms.\": 2.1666666666666665, 'and they definitely love those super worms is their favorite snack.': 2.5, \"i've been working with them for a really long time.\": 1.3333333333333333, \"that means that i've been able to learn all their individual quirks and personalities, and so i can sort of tell them apart by what they're doing.\": 1.6666666666666667, 'thomas arlo.': 0.16666666666666666, 'springsteen.': 0.16666666666666666, 'bentley nirvana.': 0.16666666666666666, 'newt.': 0.16666666666666666, 'at this moment in time, i would say that newton is probably our dominant animal.': 2.8333333333333335, \"which is surprising to me because he's one of our youngest animals.\": 1.3333333333333333, 'being the dominant male matters in the meerkat market.': 2.3333333333333335, 'your job is kind of determined in some ways by your social ranking within the group.': 2.6666666666666665, 'so in a typical group, there would be a dominant female who selects the dominant male and they breed, and then the other members of the mob are responsible for raising the offspring, finding food, taking sentry duty, which means lookout to keep everybody safe.': 6.833333333333335, 'all of that kind of stuff falls on the other members of the group.': 1.8333333333333333, 'bentley’s in the back.': 0.16666666666666666, \"they're scanning the sky and the surrounding area to make sure there are no threats that are imminent, that everybody needs to be aware of.\": 2.833333333333333, 'bentley is a really fun guy.': 0.8333333333333333, 'he is very chill.': 0.5, \"i would say he's really calm and easygoing for the most part.\": 2.1666666666666665, 'oh, so that was an alarm call.': 0.8333333333333333, 'looks like he might have seen something in the sky that i cannot see.': 3.1666666666666665, 'they have a specific vocalization for a sky predator versus land predator.': 2.0, 'something happened.': 0.6666666666666666, \"we're all seeking shelter.\": 0.3333333333333333, 'oh.': 0.3333333333333333, \"we're scared of the zebra.\": 0.5, 'those are our neighbors.': 0.16666666666666666, 'you all know the zebra.': 0.6666666666666666, \"we're all underground.\": 0.16666666666666666, 'when the coast is clear, lower ranking bentley comes out with some attitude.': 1.6666666666666667, 'bentley is definitely not in charge and when it comes to our meerkat social rankings.': 2.8333333333333335, 'but sometimes he likes to try it out and see how high he can get and test the waters.': 2.9999999999999996, \"but there's something brewing potentially.\": 1.1666666666666665}\n"
     ]
    }
   ],
   "source": [
    "# Tokenize Sentences\n",
    "from nltk.tokenize import word_tokenize\n",
    "from nltk.tokenize import sent_tokenize\n",
    "from nltk.stem import WordNetLemmatizer\n",
    "lemmatizer = WordNetLemmatizer()\n",
    "\n",
    "sentences = sent_tokenize(text_dotspace)\n",
    "sentences_nopunct = sent_tokenize(text_nopunct)\n",
    "\n",
    "sentence_score = {}\n",
    "for sentence in sentences:\n",
    "    #tokens of the sentence\n",
    "    #tokens are lemmatized to match 'tokens_final' list\n",
    "     sent_tokens = []\n",
    "     for sent_token in word_tokenize(sentence):\n",
    "          sent_tokens.append(lemmatizer.lemmatize(sent_token))\n",
    "\n",
    "     #each token's generalized frequency is summed up for a sentence\n",
    "     for token in sent_tokens:\n",
    "          if token in tokens_final:\n",
    "              if sentence not in sentence_score.keys():\n",
    "                   sentence_score[sentence] = word_frequencies[token]\n",
    "              else:\n",
    "                   sentence_score[sentence] += word_frequencies[token]\n",
    "\n",
    "print(sentence_score)    "
   ]
  },
  {
   "cell_type": "code",
   "execution_count": 177,
   "metadata": {},
   "outputs": [
    {
     "name": "stdout",
     "output_type": "stream",
     "text": [
      ">> Extractive Summary: \n",
      "So in a typical group, there would be a dominant female who selects the dominant male and they breed, and then the other members of the mob are responsible for raising the offspring, finding food, taking sentry duty, which means lookout to keep everybody safe.\n",
      "You'll see them kind of sitting in the sun, taking it in, especially early in the morning on those cooler mornings, or if it's been kind of raining.\n",
      "On a sunny morning at disney's animal kingdom theme park, the meerkats come outside to catch some rays.\n",
      "Looks like he might have seen something in the sky that i cannot see.\n",
      "But sometimes he likes to try it out and see how high he can get and test the waters.\n",
      "At this moment in time, i would say that newton is probably our dominant animal.\n",
      "Bentley is definitely not in charge and when it comes to our meerkat social rankings.\n",
      "There's so much i love about working with the meerkats.\n",
      "They're scanning the sky and the surrounding area to make sure there are no threats that are imminent, that everybody needs to be aware of.\n",
      "Some people call them solar powered, so they sit like this with their little bellies up to the sky.\n"
     ]
    }
   ],
   "source": [
    "# Select the sentences with maximum score\n",
    "\n",
    "sentences_ranked = sorted(sentence_score.items(), key=lambda x:x[1], reverse = True)\n",
    "\n",
    "summary = \"\"\n",
    "if len(sentences_ranked) > 10: \n",
    "    for sentence, score in sentences_ranked[:10]:\n",
    "        summary += \"\\n\" + sentence.capitalize()\n",
    "else:\n",
    "    for sentence, score in sentences_ranked:\n",
    "        summary += \"\\n\" + sentence.capitalize()\n",
    "\n",
    "SUMMARY_LENGTH = len(summary)\n",
    "print(\">> Extractive Summary:\", summary)"
   ]
  },
  {
   "cell_type": "code",
   "execution_count": 178,
   "metadata": {},
   "outputs": [
    {
     "data": {
      "text/plain": [
       "1133"
      ]
     },
     "execution_count": 178,
     "metadata": {},
     "output_type": "execute_result"
    }
   ],
   "source": [
    "SUMMARY_LENGTH"
   ]
  }
 ],
 "metadata": {
  "kernelspec": {
   "display_name": "Python 3",
   "language": "python",
   "name": "python3"
  },
  "language_info": {
   "codemirror_mode": {
    "name": "ipython",
    "version": 3
   },
   "file_extension": ".py",
   "mimetype": "text/x-python",
   "name": "python",
   "nbconvert_exporter": "python",
   "pygments_lexer": "ipython3",
   "version": "3.10.5"
  },
  "orig_nbformat": 4,
  "vscode": {
   "interpreter": {
    "hash": "369f2c481f4da34e4445cda3fffd2e751bd1c4d706f27375911949ba6bb62e1c"
   }
  }
 },
 "nbformat": 4,
 "nbformat_minor": 2
}
